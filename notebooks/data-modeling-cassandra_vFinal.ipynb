{
 "cells": [
  {
   "cell_type": "markdown",
   "metadata": {
    "editable": true
   },
   "source": [
    "# Part I. ETL Pipeline for Pre-Processing the Files"
   ]
  },
  {
   "cell_type": "markdown",
   "metadata": {
    "editable": true
   },
   "source": [
    "## PLEASE RUN THE FOLLOWING CODE FOR PRE-PROCESSING THE FILES"
   ]
  },
  {
   "cell_type": "markdown",
   "metadata": {
    "editable": true
   },
   "source": [
    "#### Import Python packages "
   ]
  },
  {
   "cell_type": "code",
   "execution_count": 1,
   "metadata": {
    "editable": true
   },
   "outputs": [],
   "source": [
    "# Imports and Libraries \n",
    "import pandas as pd\n",
    "import numpy as np\n",
    "\n",
    "import re\n",
    "import os\n",
    "import glob\n",
    "import json\n",
    "import csv\n",
    "\n",
    "import cassandra"
   ]
  },
  {
   "cell_type": "markdown",
   "metadata": {
    "editable": true
   },
   "source": [
    "#### Creating list of filepaths to process original event csv data files"
   ]
  },
  {
   "cell_type": "code",
   "execution_count": 2,
   "metadata": {
    "editable": true
   },
   "outputs": [
    {
     "name": "stdout",
     "output_type": "stream",
     "text": [
      "/home/workspace\n"
     ]
    }
   ],
   "source": [
    "# Checking current working directory\n",
    "print(os.getcwd())\n",
    "\n",
    "# Get your current folder and subfolder event data\n",
    "filepath = os.getcwd() + '/event_data'\n",
    "\n",
    "# Create a for loop to create a list of files and collect each filepath\n",
    "for root, dirs, files in os.walk(filepath):\n",
    "    \n",
    "# join the file path and roots with the subdirectories using glob\n",
    "    file_path_list = glob.glob(os.path.join(root,'*'))\n",
    "    #print(file_path_list)"
   ]
  },
  {
   "cell_type": "markdown",
   "metadata": {
    "editable": true
   },
   "source": [
    "#### Processing the files to create the data file csv that will be used for Apache Casssandra tables"
   ]
  },
  {
   "cell_type": "code",
   "execution_count": 3,
   "metadata": {
    "editable": true
   },
   "outputs": [],
   "source": [
    "# Initiating an empty list of rows that will be generated from each file\n",
    "full_data_rows_list = [] \n",
    "    \n",
    "# For every filepath in the file path list \n",
    "for f in file_path_list:\n",
    "\n",
    "# Reading csv file \n",
    "    with open(f, 'r', encoding = 'utf8', newline='') as csvfile: \n",
    "        # Creating a csv reader object \n",
    "        csvreader = csv.reader(csvfile) \n",
    "        next(csvreader)\n",
    "        \n",
    "         # Extracting each data row one by one and append it        \n",
    "        for line in csvreader:\n",
    "            #print(line)\n",
    "            full_data_rows_list.append(line) "
   ]
  },
  {
   "cell_type": "code",
   "execution_count": 26,
   "metadata": {
    "editable": true
   },
   "outputs": [],
   "source": [
    "# Utils and Checks\n",
    "\n",
    "# Uncomment the code below if you would like to get total number of rows \n",
    "# print(len(full_data_rows_list))\n",
    "\n",
    "# Uncomment the code below if you would like to check to see what the list of event data rows will look like\n",
    "# print(full_data_rows_list[0])"
   ]
  },
  {
   "cell_type": "code",
   "execution_count": 5,
   "metadata": {
    "editable": true
   },
   "outputs": [],
   "source": [
    "# Creating a smaller event data csv file called event_datafile_full csv that will be used to insert data into the \\\n",
    "# Apache Cassandra tables\n",
    "\n",
    "csv.register_dialect('myDialect', quoting=csv.QUOTE_ALL, skipinitialspace=True)\n",
    "\n",
    "with open('event_datafile_new.csv', 'w', encoding = 'utf8', newline='') as f:\n",
    "    writer = csv.writer(f, dialect='myDialect')\n",
    "    writer.writerow(['artist','firstName','gender','itemInSession','lastName','length',\\\n",
    "                'level','location','sessionId','song','userId'])\n",
    "    for row in full_data_rows_list:\n",
    "        if (row[0] == ''):\n",
    "            continue\n",
    "        writer.writerow((row[0], row[2], row[3], row[4], row[5], row[6], row[7], row[8], row[12], row[13], row[16]))"
   ]
  },
  {
   "cell_type": "code",
   "execution_count": 6,
   "metadata": {
    "editable": true
   },
   "outputs": [
    {
     "name": "stdout",
     "output_type": "stream",
     "text": [
      "6821\n"
     ]
    }
   ],
   "source": [
    "# Checking the number of rows in your csv file\n",
    "with open('event_datafile_new.csv', 'r', encoding = 'utf8') as f:\n",
    "    print(sum(1 for line in f))"
   ]
  },
  {
   "cell_type": "markdown",
   "metadata": {
    "editable": true
   },
   "source": [
    "# Part II. Complete the Apache Cassandra coding portion of your project. \n",
    "\n",
    "##### Now we are ready to work with the CSV file titled <font color=red>event_datafile_new.csv</font>, located within the Workspace directory.  \n",
    "\n",
    "#### The event_datafile_new.csv contains the following columns: \n",
    "- artist; \n",
    "- firstName of user;\n",
    "- gender of user;\n",
    "- item number in session;\n",
    "- last name of user;\n",
    "- length of the song;\n",
    "- level (paid or free song);\n",
    "- location of the user;\n",
    "- sessionId;\n",
    "- song title;\n",
    "- userId\n",
    "\n",
    "The image below is a screenshot of what the denormalized data should appear like in the <font color=red>**event_datafile_new.csv**</font> after the code above is run:<br>\n",
    "\n",
    "<img src=\"images/image_event_datafile_new.jpg\">"
   ]
  },
  {
   "cell_type": "markdown",
   "metadata": {
    "editable": true
   },
   "source": [
    "Revisiting the dataset with pandas:"
   ]
  },
  {
   "cell_type": "code",
   "execution_count": 7,
   "metadata": {
    "editable": true
   },
   "outputs": [
    {
     "data": {
      "text/html": [
       "<div>\n",
       "<style scoped>\n",
       "    .dataframe tbody tr th:only-of-type {\n",
       "        vertical-align: middle;\n",
       "    }\n",
       "\n",
       "    .dataframe tbody tr th {\n",
       "        vertical-align: top;\n",
       "    }\n",
       "\n",
       "    .dataframe thead th {\n",
       "        text-align: right;\n",
       "    }\n",
       "</style>\n",
       "<table border=\"1\" class=\"dataframe\">\n",
       "  <thead>\n",
       "    <tr style=\"text-align: right;\">\n",
       "      <th></th>\n",
       "      <th>artist</th>\n",
       "      <th>firstName</th>\n",
       "      <th>gender</th>\n",
       "      <th>itemInSession</th>\n",
       "      <th>lastName</th>\n",
       "      <th>length</th>\n",
       "      <th>level</th>\n",
       "      <th>location</th>\n",
       "      <th>sessionId</th>\n",
       "      <th>song</th>\n",
       "      <th>userId</th>\n",
       "    </tr>\n",
       "  </thead>\n",
       "  <tbody>\n",
       "    <tr>\n",
       "      <th>0</th>\n",
       "      <td>Barry Tuckwell/Academy of St Martin-in-the-Fie...</td>\n",
       "      <td>Mohammad</td>\n",
       "      <td>M</td>\n",
       "      <td>0</td>\n",
       "      <td>Rodriguez</td>\n",
       "      <td>277.15873</td>\n",
       "      <td>paid</td>\n",
       "      <td>Sacramento--Roseville--Arden-Arcade, CA</td>\n",
       "      <td>961</td>\n",
       "      <td>Horn Concerto No. 4 in E flat K495: II. Romanc...</td>\n",
       "      <td>88</td>\n",
       "    </tr>\n",
       "  </tbody>\n",
       "</table>\n",
       "</div>"
      ],
      "text/plain": [
       "                                              artist firstName gender  \\\n",
       "0  Barry Tuckwell/Academy of St Martin-in-the-Fie...  Mohammad      M   \n",
       "\n",
       "   itemInSession   lastName     length level  \\\n",
       "0              0  Rodriguez  277.15873  paid   \n",
       "\n",
       "                                  location  sessionId  \\\n",
       "0  Sacramento--Roseville--Arden-Arcade, CA        961   \n",
       "\n",
       "                                                song  userId  \n",
       "0  Horn Concerto No. 4 in E flat K495: II. Romanc...      88  "
      ]
     },
     "execution_count": 7,
     "metadata": {},
     "output_type": "execute_result"
    }
   ],
   "source": [
    "df = pd.read_csv('./event_datafile_new.csv')\n",
    "df.head(1)"
   ]
  },
  {
   "cell_type": "markdown",
   "metadata": {
    "editable": true
   },
   "source": [
    "## Apache Cassandra"
   ]
  },
  {
   "cell_type": "markdown",
   "metadata": {
    "editable": true
   },
   "source": [
    "#### Creating a Cluster"
   ]
  },
  {
   "cell_type": "code",
   "execution_count": 8,
   "metadata": {
    "editable": true
   },
   "outputs": [],
   "source": [
    "# This should make a connection to a Cassandra instance your local machine \n",
    "# (127.0.0.1)\n",
    "\n",
    "from cassandra.cluster import Cluster\n",
    "cluster = Cluster()\n",
    "\n",
    "# To establish connection and begin executing queries, need a session\n",
    "session = cluster.connect()"
   ]
  },
  {
   "cell_type": "markdown",
   "metadata": {
    "editable": true
   },
   "source": [
    "#### Create Keyspace"
   ]
  },
  {
   "cell_type": "code",
   "execution_count": 9,
   "metadata": {
    "editable": true
   },
   "outputs": [
    {
     "data": {
      "text/plain": [
       "<cassandra.cluster.ResultSet at 0x7f18acb0ac88>"
      ]
     },
     "execution_count": 9,
     "metadata": {},
     "output_type": "execute_result"
    }
   ],
   "source": [
    "# Creating a Keyspace \n",
    "session.execute(\n",
    "    \"\"\"\n",
    "    CREATE KEYSPACE IF NOT EXISTS udacity\n",
    "    WITH REPLICATION = \n",
    "        {'class': 'SimpleStrategy', 'replication_factor': 1}\n",
    "\"\"\"\n",
    ")"
   ]
  },
  {
   "cell_type": "markdown",
   "metadata": {
    "editable": true
   },
   "source": [
    "#### Set Keyspace"
   ]
  },
  {
   "cell_type": "code",
   "execution_count": 10,
   "metadata": {
    "editable": true
   },
   "outputs": [],
   "source": [
    "# Setting KEYSPACE to the keyspace specified above\n",
    "session.set_keyspace('udacity')"
   ]
  },
  {
   "cell_type": "markdown",
   "metadata": {
    "editable": true
   },
   "source": [
    "---\n",
    "#### Now we need to create tables to run the following queries. Remember, with Apache Cassandra you model the database tables on the queries you want to run."
   ]
  },
  {
   "cell_type": "markdown",
   "metadata": {
    "editable": true
   },
   "source": [
    "## Create queries to ask the following three questions of the data\n",
    "\n",
    "1. Give me the **artist**, **song title** and **song's length** in the music app history that was heard during **sessionId = 338**, and **itemInSession  = 4**;\n",
    "\n",
    "\n",
    "2. Give me only the following: **name of artist**, **song** (sorted by **itemInSession**) and **user (first and last name)** for **userid = 10**, **sessionid = 182**;\n",
    "    \n",
    "\n",
    "3. Give me every **user name (first and last)** in my music app history **who listened to the song 'All Hands Against His Own'**.\n",
    "\n",
    "\n"
   ]
  },
  {
   "cell_type": "markdown",
   "metadata": {
    "editable": true
   },
   "source": [
    "---\n",
    "## Query 1\n",
    "\n",
    "### Give me:\n",
    "- artist; \n",
    "- song title; and \n",
    "- song's length... \n",
    "\n",
    "...in the music app history that was heard during `sessionId = 338`, and `itemInSession = 4`."
   ]
  },
  {
   "cell_type": "markdown",
   "metadata": {
    "editable": true
   },
   "source": [
    "The **objetive** of this query is to retrieve information about a specific song listened by a user (logged at `sessionId`) and its position in this session listening queue. As a result you should see the `artist_name`, the `song_title` and the `song_length` (in seconds). The modeling of such query is build using as **(Composite) Primary Key** both the `sessionId` and `itemInSession` which are the information that would be inputted during the query.\n",
    "\n",
    "Such query could be used as information to configure the recommendation system for the user, understanding how a specific song contributes to the listening time of a user in the application."
   ]
  },
  {
   "cell_type": "code",
   "execution_count": 11,
   "metadata": {
    "editable": true
   },
   "outputs": [],
   "source": [
    "# Utils -- run as needed\n",
    "\n",
    "# session.execute(\"DROP TABLE music_library\")"
   ]
  },
  {
   "cell_type": "markdown",
   "metadata": {
    "editable": true
   },
   "source": [
    "##### Creating `music_library` table:"
   ]
  },
  {
   "cell_type": "code",
   "execution_count": 12,
   "metadata": {
    "editable": true
   },
   "outputs": [
    {
     "data": {
      "text/plain": [
       "<cassandra.cluster.ResultSet at 0x7f18acb88e10>"
      ]
     },
     "execution_count": 12,
     "metadata": {},
     "output_type": "execute_result"
    }
   ],
   "source": [
    "## Query 1:  Give me the artist, song title and song's length in the music app history that was heard during \\\n",
    "## sessionId = 338, and itemInSession = 4\n",
    "\n",
    "# Common CREATE TABLE statement\n",
    "create_if_not_exists = \"CREATE TABLE IF NOT EXISTS {}\"\n",
    "\n",
    "# Creating table for music_library\n",
    "create_music_libary_table = create_if_not_exists.format(\n",
    "                                                        \"\"\"\n",
    "                                                            music_library ( \\\n",
    "                                                                    sessionId INT, \\\n",
    "                                                                    itemInSession INT, \\\n",
    "                                                                    artist_name TEXT, \\\n",
    "                                                                    song_title TEXT, \\\n",
    "                                                                    song_length FLOAT, \\\n",
    "                                                                    PRIMARY KEY(sessionId, itemInSession) \\\n",
    "                                                                ); \\\n",
    "                                                        \"\"\"\n",
    "                                                       )\n",
    "\n",
    "\n",
    "\n",
    "# Executing query\n",
    "session.execute(create_music_libary_table)\n",
    "\n",
    "# print(create_music_libary_table)"
   ]
  },
  {
   "cell_type": "markdown",
   "metadata": {
    "editable": true
   },
   "source": [
    "##### Populating `music_library` table:"
   ]
  },
  {
   "cell_type": "code",
   "execution_count": 13,
   "metadata": {
    "editable": true
   },
   "outputs": [],
   "source": [
    "# We have provided part of the code to set up the CSV file. Please complete the Apache Cassandra code below#\n",
    "file = 'event_datafile_new.csv'\n",
    "\n",
    "with open(file, encoding = 'utf8') as f:\n",
    "    csvreader = csv.reader(f)\n",
    "    next(csvreader) # skip header\n",
    "    for line in csvreader:\n",
    "        \n",
    "        # Building query code (as string) to be executed later\n",
    "        query = \"INSERT INTO music_library (sessionId, itemInSession, artist_name, song_title, song_length)\"\n",
    "        query = query + \"VALUES (%s, %s, %s, %s, %s)\"\n",
    "        \n",
    "        # Executing query saved above\n",
    "        session.execute(query, (int(line[8]), int(line[3]), line[0], line[9], float(line[5])))"
   ]
  },
  {
   "cell_type": "markdown",
   "metadata": {
    "editable": true
   },
   "source": [
    "#### Doing a SELECT to verify that the data have been propperly inserted into the table"
   ]
  },
  {
   "cell_type": "code",
   "execution_count": 14,
   "metadata": {
    "editable": true,
    "scrolled": true
   },
   "outputs": [
    {
     "name": "stdout",
     "output_type": "stream",
     "text": [
      "Row(artist_name='Faithless', song_title='Music Matters (Mark Knight Dub)', song_length=495.30731201171875)\n"
     ]
    }
   ],
   "source": [
    "## Verifying SELECT statement to check if data was entered into the table correctly\n",
    "\n",
    "select_query = \"\"\"\n",
    "    SELECT artist_name, song_title, song_length FROM music_library WHERE sessionId = 338 and itemInSession = 4; \n",
    "\"\"\"\n",
    "\n",
    "rows = session.execute(select_query)\n",
    "\n",
    "for row in rows:\n",
    "    print(row)"
   ]
  },
  {
   "cell_type": "markdown",
   "metadata": {
    "editable": true
   },
   "source": [
    "---\n",
    "\n",
    "### Query 2\n",
    "\n",
    "#### Give me only the following: \n",
    "\n",
    "- name of artist, \n",
    "- song (sorted by itemInSession) and \n",
    "- user (first and last name) \n",
    "\n",
    "for `userid = 10`, `sessionid = 182`.\n",
    "\n",
    "This query will be able to list the order which the user has listened to the songs. \n",
    "\n",
    "For that it will be constructed using using `userId` and `sessionId`, and this information will be used as **PRIMARY KEY** for the query. On the other hadn, the `itemInSession` information will also be included as part of the **Composite Partition Key** in the PK, acting as a [**CLUSTERING COLUMN**](https://docs.datastax.com/en/cql-oss/3.3/cql/cql_using/useCompositePartitionKeyConcept.html#useCompositePartitionKeyConcept).\n"
   ]
  },
  {
   "cell_type": "code",
   "execution_count": 15,
   "metadata": {
    "editable": true
   },
   "outputs": [],
   "source": [
    "# Utils -- uncomment to run as needed\n",
    "\n",
    "# session.execute(\"DROP TABLE artist_song_user\")\n",
    "\n",
    "# for i, column in enumerate(df.columns):\n",
    "#     print(i, column)"
   ]
  },
  {
   "cell_type": "markdown",
   "metadata": {
    "editable": true
   },
   "source": [
    "##### Creating `artist_song_user` table:"
   ]
  },
  {
   "cell_type": "code",
   "execution_count": 16,
   "metadata": {
    "editable": true
   },
   "outputs": [
    {
     "data": {
      "text/plain": [
       "<cassandra.cluster.ResultSet at 0x7f18acb0a470>"
      ]
     },
     "execution_count": 16,
     "metadata": {},
     "output_type": "execute_result"
    }
   ],
   "source": [
    "# Query 2: \n",
    "# Give me only the following: name of artist, song (sorted by itemInSession) and user (first and last name) for userid = 10, sessionid = 182\n",
    "\n",
    "# Creating artist_song_user table\n",
    "create_artist_song_user_table = create_if_not_exists.format(\n",
    "                                                        \"\"\"\n",
    "                                                            artist_song_user ( \\\n",
    "                                                                    userId INT, \\\n",
    "                                                                    sessionId INT, \\\n",
    "                                                                    itemInSession INT, \\\n",
    "                                                                    artist TEXT, \\\n",
    "                                                                    firstName TEXT, \\\n",
    "                                                                    lastName TEXT, \n",
    "                                                                    song TEXT, \\\n",
    "                                                                    PRIMARY KEY((userId, sessionId), itemInSession) \\\n",
    "                                                                ); \\\n",
    "                                                        \"\"\"\n",
    "                                                       )\n",
    "\n",
    "\n",
    "\n",
    "# Executing create_artist_song_user_table query\n",
    "session.execute(create_artist_song_user_table)"
   ]
  },
  {
   "cell_type": "markdown",
   "metadata": {
    "editable": true
   },
   "source": [
    "##### Populating `artist_user_song` table:"
   ]
  },
  {
   "cell_type": "code",
   "execution_count": 17,
   "metadata": {
    "editable": true
   },
   "outputs": [],
   "source": [
    "# Populating table\n",
    "with open(file, encoding = 'utf8') as f:\n",
    "    csvreader = csv.reader(f)\n",
    "    next(csvreader) # skip header\n",
    "    for line in csvreader:\n",
    "        \n",
    "        # Building query code\n",
    "        query = \"INSERT INTO artist_song_user (userId, sessionId, itemInSession, artist, firstName, lastName, song)\"\n",
    "        query = query + \"VALUES (%s, %s, %s, %s, %s, %s, %s)\"\n",
    "        \n",
    "        # Executing query in the Cassandra session\n",
    "        session.execute(query, (int(line[10]), int(line[8]), int(line[3]), line[0], line[1], line[4], line[9]))"
   ]
  },
  {
   "cell_type": "markdown",
   "metadata": {
    "editable": true
   },
   "source": [
    "##### Creating and running query:"
   ]
  },
  {
   "cell_type": "code",
   "execution_count": 18,
   "metadata": {
    "editable": true
   },
   "outputs": [
    {
     "name": "stdout",
     "output_type": "stream",
     "text": [
      "Row(artist='Down To The Bone', firstname='Sylvie', lastname='Cruz', song=\"Keep On Keepin' On\", iteminsession=0)\n",
      "Row(artist='Three Drives', firstname='Sylvie', lastname='Cruz', song='Greece 2000', iteminsession=1)\n",
      "Row(artist='Sebastien Tellier', firstname='Sylvie', lastname='Cruz', song='Kilometer', iteminsession=2)\n",
      "Row(artist='Lonnie Gordon', firstname='Sylvie', lastname='Cruz', song='Catch You Baby (Steve Pitron & Max Sanna Radio Edit)', iteminsession=3)\n"
     ]
    }
   ],
   "source": [
    "# Give me only the following: name of artist, song (sorted by itemInSession) and user (first and last name) for userid = 10, sessionid = 182\n",
    "\n",
    "select_artist_song_user_query = \"\"\"\n",
    "    SELECT artist, firstName, lastName, song, itemInSession \\\n",
    "    FROM artist_song_user \\\n",
    "    WHERE userId = 10 AND sessionId = 182;\n",
    "\"\"\"\n",
    "\n",
    "rows_artist_song_user_query = session.execute(select_artist_song_user_query)\n",
    "\n",
    "for row in rows_artist_song_user_query:\n",
    "    print(row)"
   ]
  },
  {
   "cell_type": "markdown",
   "metadata": {
    "editable": true
   },
   "source": [
    "---\n",
    "\n",
    "### Query 3\n",
    "\n",
    "#### Give me only the following: \n",
    "\n",
    "- every **user name (first and last)** in my music app history who listened to the **song 'All Hands Against His Own'**\n",
    "\n",
    "This query is build to list all users who've listened to a specific song. For that the **(Composite) Primary Key** is constructed combining both `song` and `userId` information. \n",
    "\n",
    "Since `userId`'s are already a unique identifier we will be able to select all users that listened to a particular song of interest."
   ]
  },
  {
   "cell_type": "code",
   "execution_count": 20,
   "metadata": {
    "editable": true
   },
   "outputs": [],
   "source": [
    "# Utils -- run as needed\n",
    "\n",
    "# session.execute(\"DROP TABLE user_song_AHAHO\")\n",
    "\n",
    "# for i, column in enumerate(df.columns):\n",
    "#     print(i, column)"
   ]
  },
  {
   "cell_type": "markdown",
   "metadata": {
    "editable": true
   },
   "source": [
    "##### Creating `user_song_AHAHO` table:"
   ]
  },
  {
   "cell_type": "code",
   "execution_count": 21,
   "metadata": {
    "editable": true
   },
   "outputs": [
    {
     "data": {
      "text/plain": [
       "<cassandra.cluster.ResultSet at 0x7f1881f4ff98>"
      ]
     },
     "execution_count": 21,
     "metadata": {},
     "output_type": "execute_result"
    }
   ],
   "source": [
    "## Query 3: \n",
    "\n",
    "# Creating user_song_AHAHO table\n",
    "create_user_song_AHAHO = create_if_not_exists.format(\n",
    "                                                        \"\"\"\n",
    "                                                            user_song_AHAHO ( \\\n",
    "                                                                    song TEXT, \\\n",
    "                                                                    userId INT, \\\n",
    "                                                                    firstName TEXT, \\\n",
    "                                                                    lastName TEXT, \n",
    "                                                                    PRIMARY KEY(song, userId) \\\n",
    "                                                                ); \\\n",
    "                                                        \"\"\"\n",
    "                                                       )\n",
    "\n",
    "\n",
    "\n",
    "# Executing create_artist_song_user_table query\n",
    "session.execute(create_user_song_AHAHO)"
   ]
  },
  {
   "cell_type": "markdown",
   "metadata": {
    "editable": true
   },
   "source": [
    "##### Populating `user_song_AHAHO` table:"
   ]
  },
  {
   "cell_type": "code",
   "execution_count": 22,
   "metadata": {
    "editable": true
   },
   "outputs": [],
   "source": [
    "with open(file, encoding = 'utf8') as f:\n",
    "    csvreader = csv.reader(f)\n",
    "    next(csvreader) # skip header\n",
    "    for line in csvreader:\n",
    "        \n",
    "        # Query to insert values into table\n",
    "        query = \"INSERT INTO user_song_AHAHO (song, userId, firstName, lastName)\"\n",
    "        query = query + \"VALUES (%s, %s, %s, %s)\"\n",
    "        \n",
    "        # Executing query\n",
    "        session.execute(query, (line[9], int(line[10]), line[1], line[4]))"
   ]
  },
  {
   "cell_type": "markdown",
   "metadata": {
    "editable": true
   },
   "source": [
    "##### Writing and running query:"
   ]
  },
  {
   "cell_type": "code",
   "execution_count": 23,
   "metadata": {
    "editable": true
   },
   "outputs": [
    {
     "name": "stdout",
     "output_type": "stream",
     "text": [
      "Row(userid=29, firstname='Jacqueline', lastname='Lynch', song='All Hands Against His Own')\n",
      "Row(userid=80, firstname='Tegan', lastname='Levine', song='All Hands Against His Own')\n",
      "Row(userid=95, firstname='Sara', lastname='Johnson', song='All Hands Against His Own')\n"
     ]
    }
   ],
   "source": [
    "# Give me every user name (first and last) in my music app history who listened to the song 'All Hands Against His Own'\n",
    "\n",
    "select_user_song_AHAHO = \"\"\"\n",
    "    SELECT userId, firstName, lastName, song \\\n",
    "    FROM user_song_AHAHO \\\n",
    "    WHERE song = 'All Hands Against His Own';\n",
    "\"\"\"\n",
    "\n",
    "rows_artist_song_user_query = session.execute(select_user_song_AHAHO)\n",
    "\n",
    "for row in rows_artist_song_user_query:\n",
    "    print(row)"
   ]
  },
  {
   "cell_type": "markdown",
   "metadata": {
    "editable": true
   },
   "source": [
    "### Drop the tables before closing out the sessions"
   ]
  },
  {
   "cell_type": "code",
   "execution_count": 24,
   "metadata": {
    "editable": true
   },
   "outputs": [],
   "source": [
    "## TO-DO: Drop the table before closing out the sessions\n",
    "\n",
    "tables = ['music_library', 'artist_song_user', 'user_song_AHAHO']\n",
    "\n",
    "for table in tables:\n",
    "    session.execute(\"DROP TABLE {}\".format(table))"
   ]
  },
  {
   "cell_type": "markdown",
   "metadata": {
    "editable": true
   },
   "source": [
    "### Close the session and cluster connection¶"
   ]
  },
  {
   "cell_type": "code",
   "execution_count": 25,
   "metadata": {
    "editable": true
   },
   "outputs": [],
   "source": [
    "session.shutdown()\n",
    "cluster.shutdown()"
   ]
  },
  {
   "cell_type": "code",
   "execution_count": null,
   "metadata": {
    "editable": true
   },
   "outputs": [],
   "source": []
  }
 ],
 "metadata": {
  "kernelspec": {
   "display_name": "Python 3",
   "language": "python",
   "name": "python3"
  },
  "language_info": {
   "codemirror_mode": {
    "name": "ipython",
    "version": 3
   },
   "file_extension": ".py",
   "mimetype": "text/x-python",
   "name": "python",
   "nbconvert_exporter": "python",
   "pygments_lexer": "ipython3",
   "version": "3.6.3"
  }
 },
 "nbformat": 4,
 "nbformat_minor": 4
}
